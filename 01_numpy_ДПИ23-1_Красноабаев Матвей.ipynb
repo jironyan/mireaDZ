{
 "cells": [
  {
   "cell_type": "markdown",
   "metadata": {},
   "source": [
    "# Numpy"
   ]
  },
  {
   "cell_type": "markdown",
   "metadata": {},
   "source": [
    "Материалы:\n",
    "* Макрушин С.В. \"Лекция 1: Библиотека Numpy\"\n",
    "* https://numpy.org/doc/stable/user/index.html\n",
    "* https://numpy.org/doc/stable/reference/index.html"
   ]
  },
  {
   "cell_type": "markdown",
   "metadata": {},
   "source": [
    "## Задачи для совместного разбора"
   ]
  },
  {
   "cell_type": "markdown",
   "metadata": {},
   "source": [
    "1. Сгенерировать двухмерный массив `arr` размерности (4, 7), состоящий из случайных действительных чисел, равномерно распределенных в диапазоне от 0 до 20. Нормализовать значения массива с помощью преобразования вида  $𝑎𝑥+𝑏$  так, что после нормализации максимальный элемент масcива будет равен 1.0, минимальный 0.0"
   ]
  },
  {
   "cell_type": "code",
   "execution_count": 4,
   "metadata": {},
   "outputs": [],
   "source": [
    "import numpy as np"
   ]
  },
  {
   "cell_type": "code",
   "execution_count": 6,
   "metadata": {},
   "outputs": [
    {
     "data": {
      "text/plain": [
       "array([[ 4, 10, 12, 18,  3,  0, 12],\n",
       "       [ 0,  8,  6,  4,  2,  1, 11],\n",
       "       [ 8, 17,  1, 10, 17,  6,  8],\n",
       "       [ 7,  1,  9, 11,  6, 16, 11]])"
      ]
     },
     "execution_count": 6,
     "metadata": {},
     "output_type": "execute_result"
    }
   ],
   "source": [
    "np.random.randint(0, 20, size = (4, 7))"
   ]
  },
  {
   "cell_type": "markdown",
   "metadata": {},
   "source": [
    "2. Создать матрицу 8 на 10 из случайных целых (используя модуль `numpy.random`) чисел из диапозона от 0 до 10 и найти в ней строку (ее индекс и вывести саму строку), в которой сумма значений минимальна."
   ]
  },
  {
   "cell_type": "code",
   "execution_count": 7,
   "metadata": {},
   "outputs": [
    {
     "data": {
      "text/plain": [
       "array([[3, 7, 9, 1, 9, 6, 9, 3, 2, 9],\n",
       "       [7, 8, 9, 7, 8, 3, 1, 5, 3, 9],\n",
       "       [1, 4, 2, 3, 9, 4, 1, 5, 4, 1],\n",
       "       [1, 4, 7, 9, 4, 7, 6, 8, 7, 8],\n",
       "       [0, 9, 4, 7, 8, 4, 5, 2, 4, 6],\n",
       "       [6, 1, 2, 9, 6, 8, 1, 9, 0, 2],\n",
       "       [5, 2, 4, 5, 9, 2, 1, 7, 5, 1],\n",
       "       [9, 2, 8, 5, 1, 4, 7, 9, 6, 2]])"
      ]
     },
     "execution_count": 7,
     "metadata": {},
     "output_type": "execute_result"
    }
   ],
   "source": [
    "np.random.randint(0, 10, size = (8, 10))"
   ]
  },
  {
   "cell_type": "markdown",
   "metadata": {},
   "source": [
    "3. Найти евклидово расстояние между двумя одномерными векторами одинаковой размерности."
   ]
  },
  {
   "cell_type": "code",
   "execution_count": 10,
   "metadata": {},
   "outputs": [],
   "source": [
    "import matplotlib.pyplot as pl\n",
    "from mpl_toolkits.mplot3d import Axes3D"
   ]
  },
  {
   "cell_type": "code",
   "execution_count": null,
   "metadata": {},
   "outputs": [],
   "source": []
  },
  {
   "cell_type": "markdown",
   "metadata": {},
   "source": [
    "4. Решить матричное уравнение `A*X*B=-C` - найти матрицу `X`. Где `A = [[-1, 2, 4], [-3, 1, 2], [-3, 0, 1]]`, `B=[[3, -1], [2, 1]]`, `C=[[7, 21], [11, 8], [8, 4]]`."
   ]
  },
  {
   "cell_type": "markdown",
   "metadata": {},
   "source": [
    "## Лабораторная работа №1"
   ]
  },
  {
   "cell_type": "markdown",
   "metadata": {},
   "source": [
    "Замечание: при решении данных задач не подразумевается использования циклов или генераторов Python, если в задании не сказано обратного. Решение должно опираться на использования функционала библиотеки `numpy`."
   ]
  },
  {
   "cell_type": "markdown",
   "metadata": {},
   "source": [
    "1. Файл `minutes_n_ingredients.csv` содержит информацию об идентификаторе рецепта, времени его выполнения в минутах и количестве необходимых ингредиентов. Считайте данные из этого файла в виде массива `numpy` типа `int32`, используя `np.loadtxt`. Выведите на экран первые 5 строк массива."
   ]
  },
  {
   "cell_type": "code",
   "execution_count": 5,
   "metadata": {},
   "outputs": [],
   "source": [
    "import numpy as np"
   ]
  },
  {
   "cell_type": "code",
   "execution_count": 14,
   "metadata": {},
   "outputs": [],
   "source": [
    "data = np.loadtxt('C:\\\\Users\\\\Матвей\\\\Documents\\\\mirea\\\\minutes_n_ingredients.csv', delimiter=',', dtype='int32', skiprows=1)"
   ]
  },
  {
   "cell_type": "code",
   "execution_count": 15,
   "metadata": {},
   "outputs": [
    {
     "name": "stdout",
     "output_type": "stream",
     "text": [
      "[[127244     60     16]\n",
      " [ 23891     25      7]\n",
      " [ 94746     10      6]\n",
      " [ 67660      5      6]\n",
      " [157911     60     14]]\n"
     ]
    }
   ],
   "source": [
    "print(data[:5])"
   ]
  },
  {
   "cell_type": "markdown",
   "metadata": {},
   "source": [
    "2. Вычислите среднее значение, минимум, максимум и медиану по каждому из столбцов, кроме первого."
   ]
  },
  {
   "cell_type": "code",
   "execution_count": 16,
   "metadata": {},
   "outputs": [
    {
     "name": "stdout",
     "output_type": "stream",
     "text": [
      "Среднее значение по столбцам (кроме первого): [2.16010017e+04 9.05528000e+00]\n",
      "Минимум по столбцам (кроме первого): [0 1]\n",
      "Максимум по столбцам (кроме первого): [2147483647         39]\n",
      "Медиана по столбцам (кроме первого): [40.  9.]\n"
     ]
    }
   ],
   "source": [
    "import numpy as np\n",
    "\n",
    "mean_values = np.mean(data[:, 1:], axis=0)\n",
    "\n",
    "min_values = np.min(data[:, 1:], axis=0)\n",
    "\n",
    "max_values = np.max(data[:, 1:], axis=0)\n",
    "\n",
    "median_values = np.median(data[:, 1:], axis=0)\n",
    "\n",
    "print(\"Среднее значение по столбцам (кроме первого):\", mean_values)\n",
    "print(\"Минимум по столбцам (кроме первого):\", min_values)\n",
    "print(\"Максимум по столбцам (кроме первого):\", max_values)\n",
    "print(\"Медиана по столбцам (кроме первого):\", median_values)"
   ]
  },
  {
   "cell_type": "markdown",
   "metadata": {},
   "source": [
    "3. Ограничьте сверху значения продолжительности выполнения рецепта значением квантиля $q_{0.75}$. "
   ]
  },
  {
   "cell_type": "code",
   "execution_count": 17,
   "metadata": {},
   "outputs": [
    {
     "name": "stdout",
     "output_type": "stream",
     "text": [
      "[[127244     60     16]\n",
      " [ 23891     25      7]\n",
      " [ 94746     10      6]\n",
      " [ 67660      5      6]\n",
      " [157911     60     14]]\n"
     ]
    }
   ],
   "source": [
    "import numpy as np\n",
    "quantile_75 = np.quantile(data[:, 1], 0.75)\n",
    "data[:, 1] = np.where(data[:, 1] > quantile_75, quantile_75, data[:, 1])\n",
    "print(data[:5])"
   ]
  },
  {
   "cell_type": "markdown",
   "metadata": {},
   "source": [
    "4. Посчитайте, для скольких рецептов указана продолжительность, равная нулю. Замените для таких строк значение в данном столбце на 1."
   ]
  },
  {
   "cell_type": "code",
   "execution_count": 19,
   "metadata": {},
   "outputs": [
    {
     "name": "stdout",
     "output_type": "stream",
     "text": [
      "Количество рецептов с продолжительностью выполнения, равной нулю: 0\n",
      "[[127244     60     16]\n",
      " [ 23891     25      7]\n",
      " [ 94746     10      6]\n",
      " [ 67660      5      6]\n",
      " [157911     60     14]]\n"
     ]
    }
   ],
   "source": [
    "import numpy as np\n",
    "zero_duration_count = np.sum(data[:, 1] == 0)\n",
    "data[:, 1] = np.where(data[:, 1] == 0, 1, data[:, 1])\n",
    "print(\"Количество рецептов с продолжительностью выполнения, равной нулю:\", zero_duration_count)\n",
    "print(data[:5])"
   ]
  },
  {
   "cell_type": "markdown",
   "metadata": {},
   "source": [
    "5. Посчитайте, сколько уникальных рецептов находится в датасете."
   ]
  },
  {
   "cell_type": "code",
   "execution_count": 20,
   "metadata": {},
   "outputs": [
    {
     "name": "stdout",
     "output_type": "stream",
     "text": [
      "Количество уникальных рецептов: 100000\n"
     ]
    }
   ],
   "source": [
    "import numpy as np\n",
    "unique_recipes = np.unique(data[:, 0])\n",
    "unique_recipes_count = len(unique_recipes)\n",
    "print(\"Количество уникальных рецептов:\", unique_recipes_count)"
   ]
  },
  {
   "cell_type": "markdown",
   "metadata": {},
   "source": [
    "6. Сколько и каких различных значений кол-ва ингредиентов присутвует в рецептах из датасета?"
   ]
  },
  {
   "cell_type": "code",
   "execution_count": 21,
   "metadata": {},
   "outputs": [
    {
     "name": "stdout",
     "output_type": "stream",
     "text": [
      "Количество различных значений количества ингредиентов: 37\n",
      "Различные значения количества ингредиентов: [ 1  2  3  4  5  6  7  8  9 10 11 12 13 14 15 16 17 18 19 20 21 22 23 24\n",
      " 25 26 27 28 29 30 31 32 33 34 35 37 39]\n"
     ]
    }
   ],
   "source": [
    "import numpy as np\n",
    "unique_ingredient_counts = np.unique(data[:, 2])\n",
    "unique_count_values_count = len(unique_ingredient_counts)\n",
    "print(\"Количество различных значений количества ингредиентов:\", unique_count_values_count)\n",
    "print(\"Различные значения количества ингредиентов:\", unique_ingredient_counts)"
   ]
  },
  {
   "cell_type": "markdown",
   "metadata": {},
   "source": [
    "7. Создайте версию массива, содержащую информацию только о рецептах, состоящих не более чем из 5 ингредиентов."
   ]
  },
  {
   "cell_type": "code",
   "execution_count": 22,
   "metadata": {},
   "outputs": [
    {
     "name": "stdout",
     "output_type": "stream",
     "text": [
      "[[446597     15      5]\n",
      " [204134      5      3]\n",
      " [ 25623      6      4]\n",
      " [484223     18      4]\n",
      " [ 63150     65      4]]\n"
     ]
    }
   ],
   "source": [
    "filtered_data = data[data[:, 2] <= 5]\n",
    "print(filtered_data[:5])"
   ]
  },
  {
   "cell_type": "markdown",
   "metadata": {},
   "source": [
    "8. Для каждого рецепта посчитайте, сколько в среднем ингредиентов приходится на одну минуту рецепта. Найдите максимальное значение этой величины для всего датасета"
   ]
  },
  {
   "cell_type": "code",
   "execution_count": 23,
   "metadata": {},
   "outputs": [
    {
     "name": "stdout",
     "output_type": "stream",
     "text": [
      "Максимальное количество ингредиентов на минуту: 24.0\n"
     ]
    }
   ],
   "source": [
    "ingredients_per_minute = data[:, 2] / data[:, 1]\n",
    "max_ingredients_per_minute = np.max(ingredients_per_minute)\n",
    "print(\"Максимальное количество ингредиентов на минуту:\", max_ingredients_per_minute)"
   ]
  },
  {
   "cell_type": "markdown",
   "metadata": {},
   "source": [
    "9. Вычислите среднее количество ингредиентов для топ-100 рецептов с наибольшей продолжительностью"
   ]
  },
  {
   "cell_type": "code",
   "execution_count": 24,
   "metadata": {},
   "outputs": [
    {
     "name": "stdout",
     "output_type": "stream",
     "text": [
      "Среднее количество ингредиентов для топ-100 рецептов с наибольшей продолжительностью: 9.96\n"
     ]
    }
   ],
   "source": [
    "sorted_data = data[data[:, 1].argsort()]\n",
    "top_100_recipes = sorted_data[-100:]\n",
    "mean_ingredients_top_100 = np.mean(top_100_recipes[:, 2])\n",
    "print(\"Среднее количество ингредиентов для топ-100 рецептов с наибольшей продолжительностью:\", mean_ingredients_top_100)"
   ]
  },
  {
   "cell_type": "markdown",
   "metadata": {},
   "source": [
    "10. Выберите случайным образом и выведите информацию о 10 различных рецептах"
   ]
  },
  {
   "cell_type": "code",
   "execution_count": 25,
   "metadata": {},
   "outputs": [
    {
     "name": "stdout",
     "output_type": "stream",
     "text": [
      "Рецепт ID: 247260\n",
      "Продолжительность выполнения (минуты): 20\n",
      "Количество ингредиентов: 12\n",
      "\n",
      "Рецепт ID: 438251\n",
      "Продолжительность выполнения (минуты): 40\n",
      "Количество ингредиентов: 16\n",
      "\n",
      "Рецепт ID: 480179\n",
      "Продолжительность выполнения (минуты): 65\n",
      "Количество ингредиентов: 19\n",
      "\n",
      "Рецепт ID: 392963\n",
      "Продолжительность выполнения (минуты): 20\n",
      "Количество ингредиентов: 6\n",
      "\n",
      "Рецепт ID: 392683\n",
      "Продолжительность выполнения (минуты): 65\n",
      "Количество ингредиентов: 10\n",
      "\n",
      "Рецепт ID: 279529\n",
      "Продолжительность выполнения (минуты): 60\n",
      "Количество ингредиентов: 8\n",
      "\n",
      "Рецепт ID: 49663\n",
      "Продолжительность выполнения (минуты): 65\n",
      "Количество ингредиентов: 10\n",
      "\n",
      "Рецепт ID: 120495\n",
      "Продолжительность выполнения (минуты): 15\n",
      "Количество ингредиентов: 6\n",
      "\n",
      "Рецепт ID: 454181\n",
      "Продолжительность выполнения (минуты): 25\n",
      "Количество ингредиентов: 12\n",
      "\n",
      "Рецепт ID: 254586\n",
      "Продолжительность выполнения (минуты): 40\n",
      "Количество ингредиентов: 11\n",
      "\n"
     ]
    }
   ],
   "source": [
    "import numpy as np\n",
    "random_indices = np.random.choice(data.shape[0], size=10, replace=False)\n",
    "for index in random_indices:\n",
    "    print(\"Рецепт ID:\", data[index, 0])\n",
    "    print(\"Продолжительность выполнения (минуты):\", data[index, 1])\n",
    "    print(\"Количество ингредиентов:\", data[index, 2])\n",
    "    print()  "
   ]
  },
  {
   "cell_type": "markdown",
   "metadata": {},
   "source": [
    "11. Выведите процент рецептов, кол-во ингредиентов в которых меньше среднего."
   ]
  },
  {
   "cell_type": "code",
   "execution_count": 26,
   "metadata": {},
   "outputs": [
    {
     "name": "stdout",
     "output_type": "stream",
     "text": [
      "Процент рецептов с количеством ингредиентов меньше среднего: 58.802 %\n"
     ]
    }
   ],
   "source": [
    "import numpy as np\n",
    "mean_ingredients = np.mean(data[:, 2])\n",
    "less_than_mean_count = np.sum(data[:, 2] < mean_ingredients)\n",
    "percentage_less_than_mean = (less_than_mean_count / len(data)) * 100\n",
    "print(\"Процент рецептов с количеством ингредиентов меньше среднего:\", percentage_less_than_mean, \"%\")"
   ]
  },
  {
   "cell_type": "markdown",
   "metadata": {},
   "source": [
    "12. Назовем \"простым\" такой рецепт, длительность выполнения которого не больше 20 минут и кол-во ингредиентов в котором не больше 5. Создайте версию датасета с дополнительным столбцом, значениями которого являются 1, если рецепт простой, и 0 в противном случае."
   ]
  },
  {
   "cell_type": "code",
   "execution_count": 27,
   "metadata": {},
   "outputs": [
    {
     "name": "stdout",
     "output_type": "stream",
     "text": [
      "[[127244     60     16      0]\n",
      " [ 23891     25      7      0]\n",
      " [ 94746     10      6      0]\n",
      " [ 67660      5      6      0]\n",
      " [157911     60     14      0]]\n"
     ]
    }
   ],
   "source": [
    "data_with_simple_column = np.hstack((data, np.zeros((data.shape[0], 1), dtype=int)))\n",
    "simple_recipes_indices = (data[:, 1] <= 20) & (data[:, 2] <= 5)\n",
    "data_with_simple_column[:, -1] = np.where(simple_recipes_indices, 1, 0)\n",
    "print(data_with_simple_column[:5])"
   ]
  },
  {
   "cell_type": "markdown",
   "metadata": {},
   "source": [
    "13. Выведите процент \"простых\" рецептов в датасете"
   ]
  },
  {
   "cell_type": "code",
   "execution_count": 28,
   "metadata": {},
   "outputs": [
    {
     "name": "stdout",
     "output_type": "stream",
     "text": [
      "Процент 'простых' рецептов в датасете: 9.552 %\n"
     ]
    }
   ],
   "source": [
    "simple_recipes_count = np.sum(data_with_simple_column[:, -1] == 1)\n",
    "total_recipes_count = data_with_simple_column.shape[0]\n",
    "percentage_simple_recipes = (simple_recipes_count / total_recipes_count) * 100\n",
    "print(\"Процент 'простых' рецептов в датасете:\", percentage_simple_recipes, \"%\")"
   ]
  },
  {
   "cell_type": "markdown",
   "metadata": {},
   "source": [
    "14. Разделим рецепты на группы по следующему правилу. Назовем рецепты короткими, если их продолжительность составляет менее 10 минут; стандартными, если их продолжительность составляет более 10, но менее 20 минут; и длинными, если их продолжительность составляет не менее 20 минут. Создайте трехмерный массив, где нулевая ось отвечает за номер группы (короткий, стандартный или длинный рецепт), первая ось - за сам рецепт и вторая ось - за характеристики рецепта. Выберите максимальное количество рецептов из каждой группы таким образом, чтобы было возможно сформировать трехмерный массив. Выведите форму полученного массива."
   ]
  },
  {
   "cell_type": "code",
   "execution_count": 29,
   "metadata": {},
   "outputs": [
    {
     "name": "stdout",
     "output_type": "stream",
     "text": [
      "Форма полученного трехмерного массива: (3, 10, 3)\n"
     ]
    }
   ],
   "source": [
    "short_recipes = data[data[:, 1] < 10]\n",
    "standard_recipes = data[(data[:, 1] >= 10) & (data[:, 1] < 20)]\n",
    "long_recipes = data[data[:, 1] >= 20]\n",
    "\n",
    "max_short_recipes = min(len(short_recipes), 10)  \n",
    "max_standard_recipes = min(len(standard_recipes), 10)  \n",
    "max_long_recipes = min(len(long_recipes), 10)  \n",
    "\n",
    "three_dimensional_array = np.zeros((3, max(max_short_recipes, max_standard_recipes, max_long_recipes), data.shape[1]))\n",
    "\n",
    "three_dimensional_array[0, :max_short_recipes, :] = short_recipes[:max_short_recipes, :]\n",
    "three_dimensional_array[1, :max_standard_recipes, :] = standard_recipes[:max_standard_recipes, :]\n",
    "three_dimensional_array[2, :max_long_recipes, :] = long_recipes[:max_long_recipes, :]\n",
    "\n",
    "print(\"Форма полученного трехмерного массива:\", three_dimensional_array.shape)\n"
   ]
  },
  {
   "cell_type": "code",
   "execution_count": null,
   "metadata": {},
   "outputs": [],
   "source": []
  }
 ],
 "metadata": {
  "kernelspec": {
   "display_name": "Python 3 (ipykernel)",
   "language": "python",
   "name": "python3"
  },
  "language_info": {
   "codemirror_mode": {
    "name": "ipython",
    "version": 3
   },
   "file_extension": ".py",
   "mimetype": "text/x-python",
   "name": "python",
   "nbconvert_exporter": "python",
   "pygments_lexer": "ipython3",
   "version": "3.11.7"
  }
 },
 "nbformat": 4,
 "nbformat_minor": 4
}
