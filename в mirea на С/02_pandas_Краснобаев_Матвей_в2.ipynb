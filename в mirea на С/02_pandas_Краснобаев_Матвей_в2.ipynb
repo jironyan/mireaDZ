{
 "cells": [
  {
   "cell_type": "markdown",
   "metadata": {},
   "source": [
    "# Pandas"
   ]
  },
  {
   "cell_type": "markdown",
   "metadata": {},
   "source": [
    "Материалы:\n",
    "* Макрушин С.В. \"Лекция 2: Библиотека Pandas\"\n",
    "* https://pandas.pydata.org/docs/user_guide/index.html#\n",
    "* https://pandas.pydata.org/docs/reference/index.html\n",
    "* Уэс Маккини. Python и анализ данных"
   ]
  },
  {
   "cell_type": "markdown",
   "metadata": {},
   "source": [
    "## Задачи для совместного разбора"
   ]
  },
  {
   "cell_type": "markdown",
   "metadata": {},
   "source": [
    "1. Загрузите данные из файла `sp500hst.txt` и обозначьте столбцы в соответствии с содержимым: `\"date\", \"ticker\", \"open\", \"high\", \"low\", \"close\", \"volume\"`."
   ]
  },
  {
   "cell_type": "markdown",
   "metadata": {},
   "source": [
    "2. Рассчитайте среднее значение показателей для каждого из столбцов c номерами 3-6."
   ]
  },
  {
   "cell_type": "markdown",
   "metadata": {},
   "source": [
    "3. Добавьте столбец, содержащий только число месяца, к которому относится дата."
   ]
  },
  {
   "cell_type": "markdown",
   "metadata": {},
   "source": [
    "4. Рассчитайте суммарный объем торгов для для одинаковых значений тикеров."
   ]
  },
  {
   "cell_type": "markdown",
   "metadata": {},
   "source": [
    "5. Загрузите данные из файла sp500hst.txt и обозначьте столбцы в соответствии с содержимым: \"date\", \"ticker\", \"open\", \"high\", \"low\", \"close\", \"volume\". Добавьте столбец с расшифровкой названия тикера, используя данные из файла `sp_data2.csv` . В случае нехватки данных об именах тикеров корректно обработать их."
   ]
  },
  {
   "cell_type": "markdown",
   "metadata": {},
   "source": [
    "## Лабораторная работа №2"
   ]
  },
  {
   "cell_type": "markdown",
   "metadata": {},
   "source": [
    "### Базовые операции с `DataFrame`"
   ]
  },
  {
   "cell_type": "markdown",
   "metadata": {},
   "source": [
    "1.1 В файлах `recipes_sample.csv` и `reviews_sample.csv` находится информация об рецептах блюд и отзывах на эти рецепты соответственно. Загрузите данные из файлов в виде `pd.DataFrame` с названиями `recipes` и `reviews`. Обратите внимание на корректное считывание столбца с индексами в таблице `reviews` (безымянный столбец)."
   ]
  },
  {
   "cell_type": "code",
   "execution_count": 2,
   "metadata": {},
   "outputs": [
    {
     "name": "stdout",
     "output_type": "stream",
     "text": [
      "recipes:\n",
      "                                       name     id  minutes  contributor_id  \\\n",
      "0     george s at the cove  black bean soup  44123       90           35193   \n",
      "1        healthy for them  yogurt popsicles  67664       10           91970   \n",
      "2              i can t believe it s spinach  38798       30            1533   \n",
      "3                      italian  gut busters  35173       45           22724   \n",
      "4  love is in the air  beef fondue   sauces  84797       25            4470   \n",
      "\n",
      "    submitted  n_steps                                        description  \\\n",
      "0  2002-10-25      NaN  an original recipe created by chef scott meska...   \n",
      "1  2003-07-26      NaN  my children and their friends ask for my homem...   \n",
      "2  2002-08-29      NaN            these were so go, it surprised even me.   \n",
      "3  2002-07-27      NaN  my sister-in-law made these for us at a family...   \n",
      "4  2004-02-23      4.0  i think a fondue is a very romantic casual din...   \n",
      "\n",
      "   n_ingredients  \n",
      "0           18.0  \n",
      "1            NaN  \n",
      "2            8.0  \n",
      "3            NaN  \n",
      "4            NaN  \n",
      "\n",
      "reviews:\n",
      "           user_id  recipe_id        date  rating  \\\n",
      "370476       21752      57993  2003-05-01       5   \n",
      "624300      431813     142201  2007-09-16       5   \n",
      "187037      400708     252013  2008-01-10       4   \n",
      "706134  2001852463     404716  2017-12-11       5   \n",
      "312179       95810     129396  2008-03-14       5   \n",
      "\n",
      "                                                   review  \n",
      "370476  Last week whole sides of frozen salmon fillet ...  \n",
      "624300  So simple and so tasty!  I used a yellow capsi...  \n",
      "187037  Very nice breakfast HH, easy to make and yummy...  \n",
      "706134  These are a favorite for the holidays and so e...  \n",
      "312179  Excellent soup!  The tomato flavor is just gre...  \n"
     ]
    }
   ],
   "source": [
    "import pandas as pd\n",
    "\n",
    "recipes = pd.read_csv(\"recipes_sample.csv\")\n",
    "\n",
    "reviews = pd.read_csv(\"reviews_sample.csv\", index_col=0)\n",
    "\n",
    "print(\"recipes:\")\n",
    "print(recipes.head())\n",
    "\n",
    "print(\"\\nreviews:\")\n",
    "print(reviews.head())"
   ]
  },
  {
   "cell_type": "markdown",
   "metadata": {},
   "source": [
    "1.2 Для каждой из таблиц выведите основные параметры:\n",
    "* количество точек данных (строк);\n",
    "* количество столбцов;\n",
    "* тип данных каждого столбца."
   ]
  },
  {
   "cell_type": "code",
   "execution_count": 3,
   "metadata": {},
   "outputs": [
    {
     "name": "stdout",
     "output_type": "stream",
     "text": [
      "Параметры для таблицы recipes:\n",
      "Количество точек данных (строк): 30000\n",
      "Количество столбцов: 8\n",
      "Типы данных каждого столбца:\n",
      "name               object\n",
      "id                  int64\n",
      "minutes             int64\n",
      "contributor_id      int64\n",
      "submitted          object\n",
      "n_steps           float64\n",
      "description        object\n",
      "n_ingredients     float64\n",
      "dtype: object\n",
      "\n",
      "Параметры для таблицы reviews:\n",
      "Количество точек данных (строк): 126696\n",
      "Количество столбцов: 5\n",
      "Типы данных каждого столбца:\n",
      "user_id       int64\n",
      "recipe_id     int64\n",
      "date         object\n",
      "rating        int64\n",
      "review       object\n",
      "dtype: object\n"
     ]
    }
   ],
   "source": [
    "\n",
    "print(\"Параметры для таблицы recipes:\")\n",
    "print(\"Количество точек данных (строк):\", recipes.shape[0])\n",
    "print(\"Количество столбцов:\", recipes.shape[1])\n",
    "print(\"Типы данных каждого столбца:\")\n",
    "print(recipes.dtypes)\n",
    "\n",
    "print(\"\\nПараметры для таблицы reviews:\")\n",
    "print(\"Количество точек данных (строк):\", reviews.shape[0])\n",
    "print(\"Количество столбцов:\", reviews.shape[1])\n",
    "print(\"Типы данных каждого столбца:\")\n",
    "print(reviews.dtypes)"
   ]
  },
  {
   "cell_type": "markdown",
   "metadata": {},
   "source": [
    "1.3 Исследуйте, в каких столбцах таблиц содержатся пропуски. Посчитайте долю строк, содержащих пропуски, в отношении к общему количеству строк."
   ]
  },
  {
   "cell_type": "code",
   "execution_count": 4,
   "metadata": {},
   "outputs": [
    {
     "name": "stdout",
     "output_type": "stream",
     "text": [
      "Пропуски в таблице recipes:\n",
      "name                  0\n",
      "id                    0\n",
      "minutes               0\n",
      "contributor_id        0\n",
      "submitted             0\n",
      "n_steps           11190\n",
      "description         623\n",
      "n_ingredients      8880\n",
      "dtype: int64\n",
      "\n",
      "Доля строк с пропусками в таблице recipes: 56.85%\n",
      "\n",
      "Пропуски в таблице reviews:\n",
      "user_id       0\n",
      "recipe_id     0\n",
      "date          0\n",
      "rating        0\n",
      "review       17\n",
      "dtype: int64\n",
      "\n",
      "Доля строк с пропусками в таблице reviews: 0.01%\n"
     ]
    }
   ],
   "source": [
    "print(\"Пропуски в таблице recipes:\")\n",
    "missing_recipe_data = recipes.isnull().sum()\n",
    "print(missing_recipe_data)\n",
    "\n",
    "missing_recipe_rows_ratio = sum(recipes.isnull().any(axis=1)) / len(recipes)\n",
    "print(\"\\nДоля строк с пропусками в таблице recipes: {:.2%}\".format(missing_recipe_rows_ratio))\n",
    "\n",
    "print(\"\\nПропуски в таблице reviews:\")\n",
    "missing_review_data = reviews.isnull().sum()\n",
    "print(missing_review_data)\n",
    "\n",
    "missing_review_rows_ratio = sum(reviews.isnull().any(axis=1)) / len(reviews)\n",
    "print(\"\\nДоля строк с пропусками в таблице reviews: {:.2%}\".format(missing_review_rows_ratio))"
   ]
  },
  {
   "cell_type": "markdown",
   "metadata": {},
   "source": [
    "1.4 Рассчитайте среднее значение для каждого из числовых столбцов (где это имеет смысл)."
   ]
  },
  {
   "cell_type": "code",
   "execution_count": 6,
   "metadata": {},
   "outputs": [
    {
     "name": "stdout",
     "output_type": "stream",
     "text": [
      "Типы данных для каждого столбца в таблице recipes:\n",
      "name               object\n",
      "id                  int64\n",
      "minutes             int64\n",
      "contributor_id      int64\n",
      "submitted          object\n",
      "n_steps           float64\n",
      "description        object\n",
      "n_ingredients     float64\n",
      "dtype: object\n",
      "\n",
      "Средние значения для числовых столбцов таблицы recipes:\n",
      "n_steps          9.805582\n",
      "n_ingredients    9.008286\n",
      "dtype: float64\n",
      "\n",
      "Типы данных для каждого столбца в таблице reviews:\n",
      "user_id       int64\n",
      "recipe_id     int64\n",
      "date         object\n",
      "rating        int64\n",
      "review       object\n",
      "dtype: object\n",
      "\n",
      "Средние значения для числовых столбцов таблицы reviews:\n",
      "user_id      1.408013e+08\n",
      "recipe_id    1.600944e+05\n",
      "rating       4.410802e+00\n",
      "dtype: float64\n"
     ]
    }
   ],
   "source": [
    "print(\"Типы данных для каждого столбца в таблице recipes:\")\n",
    "print(recipes.dtypes)\n",
    "\n",
    "print(\"\\nСредние значения для числовых столбцов таблицы recipes:\")\n",
    "print(recipes.select_dtypes(include=['float64']).mean())\n",
    "\n",
    "print(\"\\nТипы данных для каждого столбца в таблице reviews:\")\n",
    "print(reviews.dtypes)\n",
    "\n",
    "print(\"\\nСредние значения для числовых столбцов таблицы reviews:\")\n",
    "print(reviews.select_dtypes(include=['float64', 'int64']).mean())"
   ]
  },
  {
   "cell_type": "markdown",
   "metadata": {},
   "source": [
    "1.5 Создайте серию из 10 случайных названий рецептов."
   ]
  },
  {
   "cell_type": "code",
   "execution_count": 8,
   "metadata": {},
   "outputs": [
    {
     "name": "stdout",
     "output_type": "stream",
     "text": [
      "['caribbean grilled chicken sandwich  or salad', 'bourbon carrots', 'beef stroganoff from cooks illustrated', 'vegan fluffy buttercream frosting', 'strawberry flan   flan de fresas', 'broccoli rabe with garlic', 'grilled london broil with rosemary', 'macadamia pine nut cheese', 'lemon parmigiano chicken', 'senapsgrdde  mustard cream sauce']\n"
     ]
    }
   ],
   "source": [
    "import random\n",
    "\n",
    "recipe_names = recipes['name']\n",
    "\n",
    "random_recipe_names = random.choices(recipe_names, k=10)\n",
    "\n",
    "print(random_recipe_names)"
   ]
  },
  {
   "cell_type": "markdown",
   "metadata": {},
   "source": [
    "1.6 Измените индекс в таблице `reviews`, пронумеровав строки, начиная с нуля."
   ]
  },
  {
   "cell_type": "code",
   "execution_count": 9,
   "metadata": {},
   "outputs": [
    {
     "name": "stdout",
     "output_type": "stream",
     "text": [
      "      user_id  recipe_id        date  rating  \\\n",
      "0       21752      57993  2003-05-01       5   \n",
      "1      431813     142201  2007-09-16       5   \n",
      "2      400708     252013  2008-01-10       4   \n",
      "3  2001852463     404716  2017-12-11       5   \n",
      "4       95810     129396  2008-03-14       5   \n",
      "\n",
      "                                              review  \n",
      "0  Last week whole sides of frozen salmon fillet ...  \n",
      "1  So simple and so tasty!  I used a yellow capsi...  \n",
      "2  Very nice breakfast HH, easy to make and yummy...  \n",
      "3  These are a favorite for the holidays and so e...  \n",
      "4  Excellent soup!  The tomato flavor is just gre...  \n"
     ]
    }
   ],
   "source": [
    "reviews.reset_index(drop=True, inplace=True)\n",
    "\n",
    "print(reviews.head())"
   ]
  },
  {
   "cell_type": "markdown",
   "metadata": {},
   "source": [
    "1.7 Выведите информацию о рецептах, время выполнения которых не больше 20 минут и кол-во ингредиентов в которых не больше 5."
   ]
  },
  {
   "cell_type": "code",
   "execution_count": 10,
   "metadata": {},
   "outputs": [
    {
     "name": "stdout",
     "output_type": "stream",
     "text": [
      "Информация о рецептах, время выполнения которых не больше 20 минут и кол-во ингредиентов в которых не больше 5:\n",
      "                                             name      id  minutes  \\\n",
      "23     margarita  dip for fresh  or grilled fruit  250883       70   \n",
      "28                            quick biscuit bread  302399       20   \n",
      "31                   sticky chicky   dump chicken  166089       55   \n",
      "41                               better  cake mix  292568       35   \n",
      "66                                  skinny  fries  250232       50   \n",
      "...                                           ...     ...      ...   \n",
      "29931                              zucchini cream  130433       50   \n",
      "29967                         zucchini spice cake   80067       65   \n",
      "29969                             zucchini strips  279769       30   \n",
      "29980        zucchini with jalapeno monterey jack  320622       10   \n",
      "29983                   zucchini with serrano ham  162411       15   \n",
      "\n",
      "       contributor_id   submitted  n_steps  \\\n",
      "23             398160  2007-09-04     14.0   \n",
      "28             213909  2008-05-06     11.0   \n",
      "31             290107  2006-04-27     14.0   \n",
      "41              66448  2008-03-19      2.0   \n",
      "66             133174  2007-09-02     10.0   \n",
      "...               ...         ...      ...   \n",
      "29931          106867  2005-07-19     12.0   \n",
      "29967            4439  2004-01-02     11.0   \n",
      "29969          522304  2008-01-18      8.0   \n",
      "29980          305531  2008-08-20      3.0   \n",
      "29983          152500  2006-03-31      6.0   \n",
      "\n",
      "                                             description  n_ingredients  \n",
      "23     this cool and creamy dip is a refreshing treat...            4.0  \n",
      "28     this is a wonderful quick bread to make as an ...            5.0  \n",
      "31     i found this recipe online. the idea here is t...            5.0  \n",
      "41     to make a boxed cake mix even better add these...            3.0  \n",
      "66     this recipe comes from the new american diet c...            4.0  \n",
      "...                                                  ...            ...  \n",
      "29931  this is from \"a passion for preserves\".  it ta...            4.0  \n",
      "29967  this recipe is pretty close to bizzare, but it...            4.0  \n",
      "29969              spicy, salty, crispy zucchini strips!            4.0  \n",
      "29980                                  simple and yummy!            3.0  \n",
      "29983  this dish is from tim malzer, a german chef wh...            5.0  \n",
      "\n",
      "[2207 rows x 8 columns]\n"
     ]
    }
   ],
   "source": [
    "\n",
    "filtered_recipes = recipes[(recipes['n_steps'] <= 20) & (recipes['n_ingredients'] <= 5)]\n",
    "\n",
    "print(\"Информация о рецептах, время выполнения которых не больше 20 минут и кол-во ингредиентов в которых не больше 5:\")\n",
    "print(filtered_recipes)\n"
   ]
  },
  {
   "cell_type": "markdown",
   "metadata": {},
   "source": [
    "### Работа с датами в `pandas`"
   ]
  },
  {
   "cell_type": "markdown",
   "metadata": {},
   "source": [
    "2.1 Преобразуйте столбец `submitted` из таблицы `recipes` в формат времени. Модифицируйте решение задачи 1.1 так, чтобы считать столбец сразу в нужном формате."
   ]
  },
  {
   "cell_type": "code",
   "execution_count": 11,
   "metadata": {},
   "outputs": [
    {
     "name": "stdout",
     "output_type": "stream",
     "text": [
      "                                       name     id  minutes  contributor_id  \\\n",
      "0     george s at the cove  black bean soup  44123       90           35193   \n",
      "1        healthy for them  yogurt popsicles  67664       10           91970   \n",
      "2              i can t believe it s spinach  38798       30            1533   \n",
      "3                      italian  gut busters  35173       45           22724   \n",
      "4  love is in the air  beef fondue   sauces  84797       25            4470   \n",
      "\n",
      "   submitted  n_steps                                        description  \\\n",
      "0 2002-10-25      NaN  an original recipe created by chef scott meska...   \n",
      "1 2003-07-26      NaN  my children and their friends ask for my homem...   \n",
      "2 2002-08-29      NaN            these were so go, it surprised even me.   \n",
      "3 2002-07-27      NaN  my sister-in-law made these for us at a family...   \n",
      "4 2004-02-23      4.0  i think a fondue is a very romantic casual din...   \n",
      "\n",
      "   n_ingredients  \n",
      "0           18.0  \n",
      "1            NaN  \n",
      "2            8.0  \n",
      "3            NaN  \n",
      "4            NaN  \n",
      "\n",
      "Информация о рецептах, время выполнения которых не больше 20 минут и кол-во ингредиентов в которых не больше 5:\n",
      "                                             name      id  minutes  \\\n",
      "23     margarita  dip for fresh  or grilled fruit  250883       70   \n",
      "28                            quick biscuit bread  302399       20   \n",
      "31                   sticky chicky   dump chicken  166089       55   \n",
      "41                               better  cake mix  292568       35   \n",
      "66                                  skinny  fries  250232       50   \n",
      "...                                           ...     ...      ...   \n",
      "29931                              zucchini cream  130433       50   \n",
      "29967                         zucchini spice cake   80067       65   \n",
      "29969                             zucchini strips  279769       30   \n",
      "29980        zucchini with jalapeno monterey jack  320622       10   \n",
      "29983                   zucchini with serrano ham  162411       15   \n",
      "\n",
      "       contributor_id  submitted  n_steps  \\\n",
      "23             398160 2007-09-04     14.0   \n",
      "28             213909 2008-05-06     11.0   \n",
      "31             290107 2006-04-27     14.0   \n",
      "41              66448 2008-03-19      2.0   \n",
      "66             133174 2007-09-02     10.0   \n",
      "...               ...        ...      ...   \n",
      "29931          106867 2005-07-19     12.0   \n",
      "29967            4439 2004-01-02     11.0   \n",
      "29969          522304 2008-01-18      8.0   \n",
      "29980          305531 2008-08-20      3.0   \n",
      "29983          152500 2006-03-31      6.0   \n",
      "\n",
      "                                             description  n_ingredients  \n",
      "23     this cool and creamy dip is a refreshing treat...            4.0  \n",
      "28     this is a wonderful quick bread to make as an ...            5.0  \n",
      "31     i found this recipe online. the idea here is t...            5.0  \n",
      "41     to make a boxed cake mix even better add these...            3.0  \n",
      "66     this recipe comes from the new american diet c...            4.0  \n",
      "...                                                  ...            ...  \n",
      "29931  this is from \"a passion for preserves\".  it ta...            4.0  \n",
      "29967  this recipe is pretty close to bizzare, but it...            4.0  \n",
      "29969              spicy, salty, crispy zucchini strips!            4.0  \n",
      "29980                                  simple and yummy!            3.0  \n",
      "29983  this dish is from tim malzer, a german chef wh...            5.0  \n",
      "\n",
      "[2207 rows x 8 columns]\n"
     ]
    }
   ],
   "source": [
    "import pandas as pd\n",
    "\n",
    "recipes = pd.read_csv(\"recipes_sample.csv\", parse_dates=[\"submitted\"])\n",
    "\n",
    "print(recipes.head())\n",
    "\n",
    "filtered_recipes = recipes[(recipes['n_steps'] <= 20) & (recipes['n_ingredients'] <= 5)]\n",
    "\n",
    "print(\"\\nИнформация о рецептах, время выполнения которых не больше 20 минут и кол-во ингредиентов в которых не больше 5:\")\n",
    "print(filtered_recipes)"
   ]
  },
  {
   "cell_type": "markdown",
   "metadata": {},
   "source": [
    "2.2 Выведите информацию о рецептах, добавленных в датасет не позже 2010 года."
   ]
  },
  {
   "cell_type": "code",
   "execution_count": 12,
   "metadata": {},
   "outputs": [
    {
     "name": "stdout",
     "output_type": "stream",
     "text": [
      "Информация о рецептах, добавленных в датасет не позже 2010 года:\n",
      "                                               name      id  minutes  \\\n",
      "0             george s at the cove  black bean soup   44123       90   \n",
      "1                healthy for them  yogurt popsicles   67664       10   \n",
      "2                      i can t believe it s spinach   38798       30   \n",
      "3                              italian  gut busters   35173       45   \n",
      "4          love is in the air  beef fondue   sauces   84797       25   \n",
      "...                                             ...     ...      ...   \n",
      "29993                     zuni caf zucchini pickles  316950     2895   \n",
      "29995  zurie s holey rustic olive and cheddar bread  267661       80   \n",
      "29996          zwetschgenkuchen  bavarian plum cake  386977      240   \n",
      "29997   zwiebelkuchen   southwest german onion cake  103312       75   \n",
      "29999        cookies by design   cookies on a stick  298512       29   \n",
      "\n",
      "       contributor_id  submitted  n_steps  \\\n",
      "0               35193 2002-10-25      NaN   \n",
      "1               91970 2003-07-26      NaN   \n",
      "2                1533 2002-08-29      NaN   \n",
      "3               22724 2002-07-27      NaN   \n",
      "4                4470 2004-02-23      4.0   \n",
      "...               ...        ...      ...   \n",
      "29993           62264 2008-07-31      NaN   \n",
      "29995          200862 2007-11-25     16.0   \n",
      "29996          177443 2009-08-24      NaN   \n",
      "29997          161745 2004-11-03      NaN   \n",
      "29999          506822 2008-04-15      9.0   \n",
      "\n",
      "                                             description  n_ingredients  \n",
      "0      an original recipe created by chef scott meska...           18.0  \n",
      "1      my children and their friends ask for my homem...            NaN  \n",
      "2                these were so go, it surprised even me.            8.0  \n",
      "3      my sister-in-law made these for us at a family...            NaN  \n",
      "4      i think a fondue is a very romantic casual din...            NaN  \n",
      "...                                                  ...            ...  \n",
      "29993  refrigerator pickles for some of the zucchini ...            8.0  \n",
      "29995  this is based on a french recipe but i changed...           10.0  \n",
      "29996  this is a traditional fresh plum cake, thought...           11.0  \n",
      "29997  this is a traditional late summer early fall s...            NaN  \n",
      "29999  i've heard of the 'cookies by design' company,...           10.0  \n",
      "\n",
      "[27661 rows x 8 columns]\n"
     ]
    }
   ],
   "source": [
    "recipes_before_2010 = recipes[recipes['submitted'].dt.year <= 2010]\n",
    "\n",
    "print(\"Информация о рецептах, добавленных в датасет не позже 2010 года:\")\n",
    "print(recipes_before_2010)"
   ]
  },
  {
   "cell_type": "markdown",
   "metadata": {},
   "source": [
    "### Работа со строковыми данными в `pandas`"
   ]
  },
  {
   "cell_type": "markdown",
   "metadata": {},
   "source": [
    "3.1  Добавьте в таблицу `recipes` столбец `description_length`, в котором хранится длина описания рецепта из столбца `description`."
   ]
  },
  {
   "cell_type": "code",
   "execution_count": 13,
   "metadata": {},
   "outputs": [
    {
     "name": "stdout",
     "output_type": "stream",
     "text": [
      "                                       name     id  minutes  contributor_id  \\\n",
      "0     george s at the cove  black bean soup  44123       90           35193   \n",
      "1        healthy for them  yogurt popsicles  67664       10           91970   \n",
      "2              i can t believe it s spinach  38798       30            1533   \n",
      "3                      italian  gut busters  35173       45           22724   \n",
      "4  love is in the air  beef fondue   sauces  84797       25            4470   \n",
      "\n",
      "   submitted  n_steps                                        description  \\\n",
      "0 2002-10-25      NaN  an original recipe created by chef scott meska...   \n",
      "1 2003-07-26      NaN  my children and their friends ask for my homem...   \n",
      "2 2002-08-29      NaN            these were so go, it surprised even me.   \n",
      "3 2002-07-27      NaN  my sister-in-law made these for us at a family...   \n",
      "4 2004-02-23      4.0  i think a fondue is a very romantic casual din...   \n",
      "\n",
      "   n_ingredients  description_length  \n",
      "0           18.0                 330  \n",
      "1            NaN                 255  \n",
      "2            8.0                  39  \n",
      "3            NaN                 154  \n",
      "4            NaN                 587  \n"
     ]
    }
   ],
   "source": [
    "recipes['description_length'] = recipes['description'].apply(lambda x: len(str(x)))\n",
    "\n",
    "print(recipes.head())"
   ]
  },
  {
   "cell_type": "markdown",
   "metadata": {},
   "source": [
    "3.2 Измените название каждого рецепта в таблице `recipes` таким образом, чтобы каждое слово в названии начиналось с прописной буквы."
   ]
  },
  {
   "cell_type": "code",
   "execution_count": 15,
   "metadata": {},
   "outputs": [
    {
     "name": "stdout",
     "output_type": "stream",
     "text": [
      "                                       name     id  minutes  contributor_id  \\\n",
      "0     George S At The Cove  Black Bean Soup  44123       90           35193   \n",
      "1        Healthy For Them  Yogurt Popsicles  67664       10           91970   \n",
      "2              I Can T Believe It S Spinach  38798       30            1533   \n",
      "3                      Italian  Gut Busters  35173       45           22724   \n",
      "4  Love Is In The Air  Beef Fondue   Sauces  84797       25            4470   \n",
      "\n",
      "   submitted  n_steps                                        description  \\\n",
      "0 2002-10-25      NaN  an original recipe created by chef scott meska...   \n",
      "1 2003-07-26      NaN  my children and their friends ask for my homem...   \n",
      "2 2002-08-29      NaN            these were so go, it surprised even me.   \n",
      "3 2002-07-27      NaN  my sister-in-law made these for us at a family...   \n",
      "4 2004-02-23      4.0  i think a fondue is a very romantic casual din...   \n",
      "\n",
      "   n_ingredients  description_length  \n",
      "0           18.0                 330  \n",
      "1            NaN                 255  \n",
      "2            8.0                  39  \n",
      "3            NaN                 154  \n",
      "4            NaN                 587  \n"
     ]
    }
   ],
   "source": [
    "recipes['name'] = recipes['name'].str.title()\n",
    "\n",
    "print(recipes.head())"
   ]
  },
  {
   "cell_type": "markdown",
   "metadata": {},
   "source": [
    "3.3 Добавьте в таблицу `recipes` столбец `name_word_count`, в котором хранится количество слов из названии рецепта (считайте, что слова в названии разделяются только пробелами). Обратите внимание, что между словами может располагаться несколько пробелов подряд."
   ]
  },
  {
   "cell_type": "code",
   "execution_count": 16,
   "metadata": {},
   "outputs": [
    {
     "name": "stdout",
     "output_type": "stream",
     "text": [
      "                                       name     id  minutes  contributor_id  \\\n",
      "0     George S At The Cove  Black Bean Soup  44123       90           35193   \n",
      "1        Healthy For Them  Yogurt Popsicles  67664       10           91970   \n",
      "2              I Can T Believe It S Spinach  38798       30            1533   \n",
      "3                      Italian  Gut Busters  35173       45           22724   \n",
      "4  Love Is In The Air  Beef Fondue   Sauces  84797       25            4470   \n",
      "\n",
      "   submitted  n_steps                                        description  \\\n",
      "0 2002-10-25      NaN  an original recipe created by chef scott meska...   \n",
      "1 2003-07-26      NaN  my children and their friends ask for my homem...   \n",
      "2 2002-08-29      NaN            these were so go, it surprised even me.   \n",
      "3 2002-07-27      NaN  my sister-in-law made these for us at a family...   \n",
      "4 2004-02-23      4.0  i think a fondue is a very romantic casual din...   \n",
      "\n",
      "   n_ingredients  description_length  name_word_count  \n",
      "0           18.0                 330                8  \n",
      "1            NaN                 255                5  \n",
      "2            8.0                  39                7  \n",
      "3            NaN                 154                3  \n",
      "4            NaN                 587                8  \n"
     ]
    }
   ],
   "source": [
    "\n",
    "recipes['name_word_count'] = recipes['name'].apply(lambda x: len(x.split()))\n",
    "\n",
    "print(recipes.head())"
   ]
  },
  {
   "cell_type": "markdown",
   "metadata": {},
   "source": [
    "### Группировки таблиц `pd.DataFrame`"
   ]
  },
  {
   "cell_type": "markdown",
   "metadata": {},
   "source": [
    "4.1 Посчитайте количество рецептов, представленных каждым из участников (`contributor_id`). Какой участник добавил максимальное кол-во рецептов?"
   ]
  },
  {
   "cell_type": "code",
   "execution_count": 17,
   "metadata": {},
   "outputs": [
    {
     "name": "stdout",
     "output_type": "stream",
     "text": [
      "Количество рецептов, представленных каждым участником:\n",
      "contributor_id\n",
      "89831      421\n",
      "37449      346\n",
      "37779      345\n",
      "1533       186\n",
      "169430     183\n",
      "          ... \n",
      "1061628      1\n",
      "1076183      1\n",
      "429061       1\n",
      "64032        1\n",
      "186118       1\n",
      "Name: count, Length: 8404, dtype: int64\n",
      "\n",
      "Участник с contributor_id 89831 добавил максимальное количество рецептов: 421 рецептов.\n"
     ]
    }
   ],
   "source": [
    "\n",
    "recipe_counts = recipes['contributor_id'].value_counts()\n",
    "\n",
    "print(\"Количество рецептов, представленных каждым участником:\")\n",
    "print(recipe_counts)\n",
    "\n",
    "max_contributor = recipe_counts.idxmax()\n",
    "max_recipe_count = recipe_counts.max()\n",
    "\n",
    "print(f\"\\nУчастник с contributor_id {max_contributor} добавил максимальное количество рецептов: {max_recipe_count} рецептов.\")"
   ]
  },
  {
   "cell_type": "markdown",
   "metadata": {},
   "source": [
    "4.2 Посчитайте средний рейтинг к каждому из рецептов. Для скольких рецептов отсутствуют отзывы? Обратите внимание, что отзыв с нулевым рейтингом или не заполненным текстовым описанием не считается отсутствующим."
   ]
  },
  {
   "cell_type": "code",
   "execution_count": 18,
   "metadata": {},
   "outputs": [
    {
     "name": "stdout",
     "output_type": "stream",
     "text": [
      "Средний рейтинг к каждому рецепту:\n",
      "recipe_id\n",
      "48        1.000000\n",
      "55        4.750000\n",
      "66        4.944444\n",
      "91        4.750000\n",
      "94        5.000000\n",
      "            ...   \n",
      "536547    5.000000\n",
      "536610    0.000000\n",
      "536728    4.000000\n",
      "536729    4.750000\n",
      "536747    0.000000\n",
      "Name: rating, Length: 28100, dtype: float64\n",
      "\n",
      "Количество рецептов без отзывов: 2561\n"
     ]
    }
   ],
   "source": [
    "mean_rating_per_recipe = reviews.groupby('recipe_id')['rating'].mean()\n",
    "\n",
    "recipes_with_reviews = reviews[reviews['rating'] != 0]  # Учитываем только отзывы с ненулевым рейтингом\n",
    "recipes_with_reviews_and_text = recipes_with_reviews.dropna(subset=['review'])  # Учитываем только отзывы с текстовым описанием\n",
    "recipes_without_reviews = recipes[~recipes['id'].isin(recipes_with_reviews_and_text['recipe_id'].unique())]\n",
    "\n",
    "print(\"Средний рейтинг к каждому рецепту:\")\n",
    "print(mean_rating_per_recipe)\n",
    "print(\"\\nКоличество рецептов без отзывов:\", len(recipes_without_reviews))"
   ]
  },
  {
   "cell_type": "markdown",
   "metadata": {},
   "source": [
    "4.3 Посчитайте количество рецептов с разбивкой по годам создания."
   ]
  },
  {
   "cell_type": "code",
   "execution_count": 19,
   "metadata": {},
   "outputs": [
    {
     "name": "stdout",
     "output_type": "stream",
     "text": [
      "Количество рецептов с разбивкой по годам создания:\n",
      "year_submitted\n",
      "1999     275\n",
      "2000     104\n",
      "2001     589\n",
      "2002    2644\n",
      "2003    2334\n",
      "2004    2153\n",
      "2005    3130\n",
      "2006    3473\n",
      "2007    4429\n",
      "2008    4029\n",
      "2009    2963\n",
      "2010    1538\n",
      "2011     922\n",
      "2012     659\n",
      "2013     490\n",
      "2014     139\n",
      "2015      42\n",
      "2016      24\n",
      "2017      39\n",
      "2018      24\n",
      "dtype: int64\n"
     ]
    }
   ],
   "source": [
    "recipes['year_submitted'] = recipes['submitted'].dt.year\n",
    "\n",
    "recipe_count_by_year = recipes.groupby('year_submitted').size()\n",
    "\n",
    "print(\"Количество рецептов с разбивкой по годам создания:\")\n",
    "print(recipe_count_by_year)"
   ]
  },
  {
   "cell_type": "markdown",
   "metadata": {},
   "source": [
    "### Объединение таблиц `pd.DataFrame`"
   ]
  },
  {
   "cell_type": "markdown",
   "metadata": {},
   "source": [
    "5.1 При помощи объединения таблиц, создайте `DataFrame`, состоящий из четырех столбцов: `id`, `name`, `user_id`, `rating`. Рецепты, на которые не оставлен ни один отзыв, должны отсутствовать в полученной таблице. Подтвердите правильность работы вашего кода, выбрав рецепт, не имеющий отзывов, и попытавшись найти строку, соответствующую этому рецепту, в полученном `DataFrame`."
   ]
  },
  {
   "cell_type": "code",
   "execution_count": 21,
   "metadata": {},
   "outputs": [
    {
     "name": "stdout",
     "output_type": "stream",
     "text": [
      "Рецепт без отзывов:\n",
      "name                                      Pasta  With Shrimp   Eggplant\n",
      "id                                                               223349\n",
      "minutes                                                              50\n",
      "contributor_id                                                   452592\n",
      "submitted                                           2007-04-18 00:00:00\n",
      "n_steps                                                             7.0\n",
      "description           a nice low carb way to feel like you are eatin...\n",
      "n_ingredients                                                       9.0\n",
      "description_length                                                   54\n",
      "name_word_count                                                       4\n",
      "year_submitted                                                     2007\n",
      "Name: 26, dtype: object\n",
      "\n",
      "Поиск строки в полученном DataFrame для выбранного рецепта:\n",
      "Empty DataFrame\n",
      "Columns: [id, name, user_id, rating]\n",
      "Index: []\n"
     ]
    }
   ],
   "source": [
    "merged_df = pd.merge(recipes, reviews[['recipe_id', 'user_id', 'rating']], left_on='id', right_on='recipe_id', how='inner')\n",
    "\n",
    "final_df = merged_df[['id', 'name', 'user_id', 'rating']]\n",
    "\n",
    "recipe_without_review = recipes[~recipes['id'].isin(final_df['id'])].iloc[0]\n",
    "print(\"Рецепт без отзывов:\")\n",
    "print(recipe_without_review)\n",
    "\n",
    "print(\"\\nПоиск строки в полученном DataFrame для выбранного рецепта:\")\n",
    "print(final_df[final_df['id'] == recipe_without_review['id']])"
   ]
  },
  {
   "cell_type": "markdown",
   "metadata": {},
   "source": [
    "5.2 При помощи объединения таблиц и группировок, создайте `DataFrame`, состоящий из трех столбцов: `recipe_id`, `name`, `review_count`, где столбец `review_count` содержит кол-во отзывов, оставленных на рецепт `recipe_id`. У рецептов, на которые не оставлен ни один отзыв, в столбце `review_count` должен быть указан 0. Подтвердите правильность работы вашего кода, выбрав рецепт, не имеющий отзывов, и найдя строку, соответствующую этому рецепту, в полученном `DataFrame`."
   ]
  },
  {
   "cell_type": "code",
   "execution_count": 26,
   "metadata": {},
   "outputs": [
    {
     "name": "stdout",
     "output_type": "stream",
     "text": [
      " Учитывая рецепты без отзывов\n",
      "\n",
      "Поиск строки в полученном DataFrame для выбранного рецепта:\n",
      "           id                           name  review_count\n",
      "16052  223349  Pasta  With Shrimp   Eggplant             1\n"
     ]
    }
   ],
   "source": [
    "merged_df = pd.merge(recipes, reviews, left_on='id', right_on='recipe_id', how='left')\n",
    "\n",
    "review_count_per_recipe = merged_df.groupby(['id', 'name']).size().reset_index(name='review_count')\n",
    "\n",
    "review_count_per_recipe['review_count'] = review_count_per_recipe['review_count'].fillna(0).astype(int)\n",
    "\n",
    "recipes_without_reviews = recipes[~recipes['id'].isin(review_count_per_recipe['id'])]\n",
    "\n",
    "if not recipes_without_reviews.empty:\n",
    "    recipe_without_review = recipes_without_reviews.iloc[0]\n",
    "    print(\"Рецепт без отзывов:\")\n",
    "    print(recipe_without_review)\n",
    "else:\n",
    "    print(\" Учитывая рецепты без отзывов\")\n",
    "\n",
    "print(\"\\nПоиск строки в полученном DataFrame для выбранного рецепта:\")\n",
    "print(review_count_per_recipe[review_count_per_recipe['id'] == recipe_without_review['id']])\n"
   ]
  },
  {
   "cell_type": "markdown",
   "metadata": {},
   "source": [
    "5.3. Выясните, рецепты, добавленные в каком году, имеют наименьший средний рейтинг?"
   ]
  },
  {
   "cell_type": "code",
   "execution_count": 27,
   "metadata": {},
   "outputs": [
    {
     "name": "stdout",
     "output_type": "stream",
     "text": [
      "Год с наименьшим средним рейтингом: 2017, средний рейтинг: 2.75\n"
     ]
    }
   ],
   "source": [
    "merged_df = pd.merge(recipes, reviews, left_on='id', right_on='recipe_id', how='inner')\n",
    "\n",
    "merged_df['year_submitted'] = merged_df['submitted'].dt.year\n",
    "\n",
    "mean_rating_per_year = merged_df.groupby('year_submitted')['rating'].mean()\n",
    "\n",
    "year_with_min_mean_rating = mean_rating_per_year.idxmin()\n",
    "min_mean_rating = mean_rating_per_year.min()\n",
    "\n",
    "print(f\"Год с наименьшим средним рейтингом: {year_with_min_mean_rating}, средний рейтинг: {min_mean_rating}\")"
   ]
  },
  {
   "cell_type": "markdown",
   "metadata": {},
   "source": [
    "### Сохранение таблиц `pd.DataFrame`"
   ]
  },
  {
   "cell_type": "markdown",
   "metadata": {},
   "source": [
    "6.1 Отсортируйте таблицу в порядке убывания величины столбца `name_word_count` и сохраните результаты выполнения заданий 3.1-3.3 в csv файл. "
   ]
  },
  {
   "cell_type": "code",
   "execution_count": 33,
   "metadata": {},
   "outputs": [],
   "source": [
    "sorted_recipes = recipes.sort_values(by='name_word_count', ascending=False)\n",
    "\n",
    "sorted_recipes.to_csv('sorted_recipes.csv', index=False)\n",
    "\n",
    "quick_recipes = sorted_recipes[(sorted_recipes['minutes'] <= 20) & (sorted_recipes['n_ingredients'] <= 5)]\n",
    "quick_recipes.to_csv('quick_recipes.csv', index=False)\n",
    "\n",
    "recipes_before_2010 = sorted_recipes[sorted_recipes['submitted'].dt.year <= 2010]\n",
    "recipes_before_2010.to_csv('recipes_before_2010.csv', index=False)\n",
    "\n",
    "merged_df = pd.merge(sorted_recipes, reviews, left_on='id', right_on='recipe_id', how='left')\n",
    "mean_rating_per_recipe = merged_df.groupby(['id', 'name'])['rating'].mean().reset_index(name='mean_rating')\n",
    "mean_rating_per_recipe.to_csv('mean_rating_per_recipe.csv', index=False)"
   ]
  },
  {
   "cell_type": "markdown",
   "metadata": {},
   "source": [
    "6.2 Воспользовавшись `pd.ExcelWriter`, cохраните результаты 5.1 и 5.2 в файл: на лист с названием `Рецепты с оценками` сохраните результаты выполнения 5.1; на лист с названием `Количество отзывов по рецептам` сохраните результаты выполнения 5.2."
   ]
  },
  {
   "cell_type": "code",
   "execution_count": 37,
   "metadata": {},
   "outputs": [],
   "source": [
    "import pandas as pd\n"
   ]
  },
  {
   "cell_type": "markdown",
   "metadata": {},
   "source": [
    "#### [версия 2]\n",
    "* Уточнены формулировки задач 1.1, 3.3, 4.2, 5.1, 5.2, 5.3"
   ]
  },
  {
   "cell_type": "code",
   "execution_count": null,
   "metadata": {},
   "outputs": [],
   "source": [
    "cool"
   ]
  }
 ],
 "metadata": {
  "kernelspec": {
   "display_name": "Python 3 (ipykernel)",
   "language": "python",
   "name": "python3"
  },
  "language_info": {
   "codemirror_mode": {
    "name": "ipython",
    "version": 3
   },
   "file_extension": ".py",
   "mimetype": "text/x-python",
   "name": "python",
   "nbconvert_exporter": "python",
   "pygments_lexer": "ipython3",
   "version": "3.11.7"
  }
 },
 "nbformat": 4,
 "nbformat_minor": 4
}
